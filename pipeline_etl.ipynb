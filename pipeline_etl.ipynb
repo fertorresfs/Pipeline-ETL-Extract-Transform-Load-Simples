{
  "nbformat": 4,
  "nbformat_minor": 0,
  "metadata": {
    "colab": {
      "provenance": [],
      "authorship_tag": "ABX9TyMgGRKqGwekIcFqHNw+fQrg",
      "include_colab_link": true
    },
    "kernelspec": {
      "name": "python3",
      "display_name": "Python 3"
    },
    "language_info": {
      "name": "python"
    }
  },
  "cells": [
    {
      "cell_type": "markdown",
      "metadata": {
        "id": "view-in-github",
        "colab_type": "text"
      },
      "source": [
        "<a href=\"https://colab.research.google.com/github/fertorresfs/Pipeline-ETL-Extract-Transform-Load-Simples/blob/main/pipeline_etl.ipynb\" target=\"_parent\"><img src=\"https://colab.research.google.com/assets/colab-badge.svg\" alt=\"Open In Colab\"/></a>"
      ]
    },
    {
      "cell_type": "code",
      "execution_count": null,
      "metadata": {
        "id": "ZEi6TXQO5Raz"
      },
      "outputs": [],
      "source": [
        "import pandas as pd\n",
        "import requests\n",
        "import sqlite3\n",
        "from sqlalchemy import create_engine, text\n",
        "import logging\n",
        "import os\n",
        "from datetime import datetime\n",
        "\n",
        "# Configurar o logging\n",
        "logging.basicConfig(filename='etl.log', level=logging.INFO, format='%(asctime)s - %(levelname)s - %(message)s')\n"
      ]
    },
    {
      "cell_type": "code",
      "source": [
        "# Configurações do banco de dados\n",
        "db_path = 'seu_banco_de_dados.db'  # Substitua pelo caminho do seu banco de dados\n",
        "engine = create_engine(f'sqlite:///{db_path}')"
      ],
      "metadata": {
        "id": "x5yf-NE75Yzp"
      },
      "execution_count": null,
      "outputs": []
    },
    {
      "cell_type": "code",
      "source": [
        "def extrair_dados_csv(caminho_arquivo):\n",
        "    \"\"\"Extrai dados de um arquivo CSV.\"\"\"\n",
        "    try:\n",
        "        df = pd.read_csv(caminho_arquivo)\n",
        "        logging.info(f\"Dados extraídos do CSV: {caminho_arquivo}\")\n",
        "        return df\n",
        "    except Exception as e:\n",
        "        logging.error(f\"Erro ao extrair dados do CSV: {e}\")\n",
        "        return None"
      ],
      "metadata": {
        "id": "taQ89dTZ5bWC"
      },
      "execution_count": null,
      "outputs": []
    },
    {
      "cell_type": "code",
      "source": [
        "def extrair_dados_api(url_api):\n",
        "    \"\"\"Extrai dados de uma API.\"\"\"\n",
        "    try:\n",
        "        response = requests.get(url_api)\n",
        "        response.raise_for_status() # Lança uma exceção para códigos de status ruins (4xx ou 5xx)\n",
        "        data = response.json()\n",
        "        df = pd.DataFrame(data) # Supondo que a API retorna JSON que pode ser convertido em DataFrame.\n",
        "        logging.info(f\"Dados extraídos da API: {url_api}\")\n",
        "        return df\n",
        "    except requests.exceptions.RequestException as e:\n",
        "        logging.error(f\"Erro na requisição da API: {e}\")\n",
        "        return None\n",
        "    except Exception as e:\n",
        "        logging.error(f\"Erro ao extrair dados da API: {e}\")\n",
        "        return None"
      ],
      "metadata": {
        "id": "X7M6ITCI5eX6"
      },
      "execution_count": null,
      "outputs": []
    },
    {
      "cell_type": "code",
      "source": [
        "def transformar_dados(df1, df2=None):\n",
        "    \"\"\"Transforma os dados.\"\"\"\n",
        "    #Exemplo de transformação: renomear colunas para evitar conflitos\n",
        "    df1.columns = ['id', 'nome_csv', 'valor_csv', 'data_csv']\n",
        "\n",
        "\n",
        "    if df2 is not None:\n",
        "        df2.columns = ['id', 'nome_api', 'valor_api']\n",
        "        df = pd.merge(df1, df2, on='id', how='left') #combinando os dataframes\n",
        "    else:\n",
        "        df = df1\n",
        "\n",
        "    #Outras transformações - exemplo convertendo coluna para datetime\n",
        "    df['data_csv'] = pd.to_datetime(df['data_csv'])\n",
        "    # Adicione mais transformações aqui, conforme necessário.\n",
        "    logging.info(\"Dados transformados.\")\n",
        "    return df"
      ],
      "metadata": {
        "id": "lxu1CFDj5i6w"
      },
      "execution_count": null,
      "outputs": []
    },
    {
      "cell_type": "code",
      "source": [
        "def carregar_dados(df, nome_tabela):\n",
        "    \"\"\"Carrega os dados no banco de dados.\"\"\"\n",
        "    try:\n",
        "        df.to_sql(nome_tabela, engine, if_exists='replace', index=False) #substitui a tabela se ela já existir\n",
        "        logging.info(f\"Dados carregados na tabela: {nome_tabela}\")\n",
        "    except Exception as e:\n",
        "        logging.error(f\"Erro ao carregar dados no banco de dados: {e}\")"
      ],
      "metadata": {
        "id": "YtQyupyU5lRi"
      },
      "execution_count": null,
      "outputs": []
    },
    {
      "cell_type": "code",
      "source": [
        "def executar_etl(csv_path, api_url, tabela_destino):\n",
        "    \"\"\"Executa o pipeline ETL completo.\"\"\"\n",
        "\n",
        "    df_csv = extrair_dados_csv(csv_path)\n",
        "    df_api = extrair_dados_api(api_url)\n",
        "\n",
        "    if df_csv is not None:  # Proceed even if API extraction fails\n",
        "        df_transformado = transformar_dados(df_csv, df_api)\n",
        "        if df_transformado is not None:\n",
        "             carregar_dados(df_transformado, tabela_destino)"
      ],
      "metadata": {
        "id": "xJqOOjRw5n64"
      },
      "execution_count": null,
      "outputs": []
    },
    {
      "cell_type": "code",
      "source": [
        "# Exemplo de Uso:\n",
        "csv_filepath = 'seu_arquivo.csv' #substitua\n",
        "api_url = 'https://sua_api.com/endpoint' #substitua\n",
        "tabela = 'dados_combinados'\n",
        "\n",
        "executar_etl(csv_filepath, api_url, tabela)"
      ],
      "metadata": {
        "id": "vKEbWxpJ5qlp"
      },
      "execution_count": null,
      "outputs": []
    },
    {
      "cell_type": "code",
      "source": [
        "#Para agendar com cron (no Linux/macOS):\n",
        "# 1. Abra o crontab: `crontab -e`\n",
        "# 2. Adicione uma linha como esta para executar o script diariamente à meia-noite:\n",
        "# `0 0 * * * /usr/bin/python3 /caminho/para/seu/pipeline_etl.ipynb`\n",
        "# Substitua `/usr/bin/python3` e `/caminho/para/seu/` pelos valores corretos.\n",
        "# Você pode usar `which python3` para encontrar o caminho do seu interpretador Python."
      ],
      "metadata": {
        "id": "D51XuIsD5tdp"
      },
      "execution_count": null,
      "outputs": []
    }
  ]
}